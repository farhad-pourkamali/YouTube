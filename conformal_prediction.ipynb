{
 "cells": [
  {
   "cell_type": "markdown",
   "id": "870cde38",
   "metadata": {
    "slideshow": {
     "slide_type": "slide"
    }
   },
   "source": [
    "\n",
    "\n",
    "# Conformal Prediction\n",
    "<img src=\"Logo.png\" width=120 align='right'>\n",
    "\n",
    "* Problem formulation\n",
    "* Score function\n",
    "* Conformal prediction for classification and regression problems\n",
    "* Python implementation\n",
    "\n",
    "\n",
    "### https://www.youtube.com/c/DrDataScience\n",
    "\n"
   ]
  },
  {
   "cell_type": "markdown",
   "id": "e3373754",
   "metadata": {
    "slideshow": {
     "slide_type": "slide"
    }
   },
   "source": [
    "### Overview \n",
    "<hr style=\"border:2px solid gray\">\n",
    "\n",
    "* Conformal prediction is a framework for quantifying uncertainty in the predictions made by arbitrary machine learning algorithms\n",
    "\n",
    "\n",
    "* At its core, conformal prediction leverages statistical principles to establish a reliable measure of prediction uncertainty\n",
    "\n",
    "* It does *not* rely on specific modeling assumptions, enhancing its applicability\n",
    "\n",
    "* In this notebook, we will discuss three main ingredients of conformal prediction or CP\n",
    "\n",
    "* Let $(x_i, y_i)\\sim P$, $i=1,\\ldots,n$, be i.i.d. feature and response pairs, from a distribution $P$ on $\\mathcal{X}\\times \\mathcal{Y}$  \n",
    "\n",
    "* Let $\\alpha\\in(0,1)$ represent the error level \n",
    "\n",
    "* Our goal is to find a prediction set \n",
    "\n",
    "$$\\hat{C}:\\mathcal{X}\\mapsto \\{\\text{subset of } \\mathcal{Y}\\}$$\n",
    "\n",
    "with the probability that for a new i.i.d. pair $(x_{n+1}, y_{n+1})\\sim P$, we get \n",
    "\n",
    "$$\\text{Prob}\\big(y_{n+1}\\in\\hat{C}(x_{n+1})\\big)\\geq 1-\\alpha$$\n",
    "\n",
    "where the probability is taken over all of our data $(x_i, y_i), i=1,\\ldots,n+1$\n",
    "\n",
    "* Thus, $1-\\alpha$ is the target coverage level\n"
   ]
  },
  {
   "cell_type": "markdown",
   "id": "953cf35e",
   "metadata": {},
   "source": [
    "### A trivial solution\n",
    "<hr style=\"border:2px solid gray\">\n",
    "\n",
    "* Let us build the prediction set as follows \n",
    "\n",
    "$$\\hat{C}=\\begin{cases}\\mathcal{Y} & \\text{with prob } 1-\\alpha\\\\\\emptyset & \\text{with prob } \\alpha\\end{cases}$$\n",
    "\n",
    "* This choice will always have exactly $1-\\alpha$ coverage \n",
    "\n",
    "$$\\text{Prob}\\big(y_{n+1}\\in\\hat{C}(x_{n+1})\\big)=1-\\alpha$$\n",
    "\n",
    "* Can we achieve $\\text{Prob}\\big(y_{n+1}\\in\\hat{C}(x_{n+1})\\big)\\geq1-\\alpha$ in *finite samples* by doing something *nontrivial*?\n",
    "    * Adjust the size of $\\hat{C}(x_{n+1})$ based on how difficult it is to predict $y_{n+1}$"
   ]
  },
  {
   "cell_type": "markdown",
   "id": "95aaa069",
   "metadata": {},
   "source": [
    "### Review of quantile \n",
    "<hr style=\"border:2px solid gray\">\n",
    "\n",
    "* A quantile is value below which a certain portion of the data values will lie\n",
    "\n",
    "* The empirical $(1-\\alpha)$-quantile of a list of real numbers $s_1,\\ldots,s_B$ can be written as quantile$(s_1,\\ldots,s_B;1-\\alpha)$ and is defined as \n",
    "$$\\inf\\big\\{q\\in\\mathbb{R}:\\frac{1}{B}\\sum_{b=1}^B \\mathbb{1}_{\\{s_b\\leq q\\}}\\geq 1-\\alpha\\big\\}$$"
   ]
  },
  {
   "cell_type": "markdown",
   "id": "cb5092f9",
   "metadata": {},
   "source": [
    "### Ingredient 1 of CP: order statistics\n",
    "<hr style=\"border:2px solid gray\">\n",
    "\n",
    "* Assume that there are no features at all and we have a sequence $y_i\\in\\mathbb{R}, i=1,\\ldots,n$\n",
    "\n",
    "* How to find $\\text{Prob}(y_{n+1}\\leq \\hat{q})\\geq 1- \\alpha$ using the i.i.d. assumption?\n",
    "\n",
    "* The *rank* of $y_{n+1}$ is uniformly distributed over the values of $y_1,\\ldots,y_{n+1}$\n",
    "\n",
    "$$\\text{Prob}\\big(y_{n+1} \\text{ is among} \\lceil (1-\\alpha)(n+1)\\rceil \\text{ smallest of } y_1,\\ldots, y_{n+1}\\big)\\geq 1-\\alpha$$\n",
    "\n",
    "$$\\text{Prob}\\big(y_{n+1}> \\lceil (1-\\alpha)(n+1)\\rceil \\text{ smallest of } y_1,\\ldots, y_{n+1}\\big)< \\alpha$$\n",
    "\n",
    "$$\\text{Prob}\\big(y_{n+1}> \\lceil (1-\\alpha)(n+1)\\rceil \\text{ smallest of } y_1,\\ldots, y_{n}\\big)< \\alpha$$\n",
    "\n",
    "* Therefore \n",
    "\n",
    "$$\\text{Prob}\\big(y_{n+1} \\leq  \\lceil (1-\\alpha)(n+1)\\rceil \\text{ smallest of } y_1,\\ldots, y_{n}\\big)\\geq 1-\\alpha$$\n",
    "\n",
    "and \n",
    "\n",
    "$$\\hat{q}=\\lceil (1-\\alpha)(n+1)\\rceil \\text{ smallest of } y_1,\\ldots, y_{n}$$"
   ]
  },
  {
   "cell_type": "markdown",
   "id": "f25745ca",
   "metadata": {},
   "source": [
    "### CP in regression problems\n",
    "<hr style=\"border:2px solid gray\">\n",
    "\n",
    "* Let us consider a regression problem, where $\\hat{f}(x)$ is a prediction for the value of $y$ that we would expect to see at $x$\n",
    "\n",
    "* Find residuals and compute $\\hat{q}$\n",
    "\n",
    "$$r_i = |y_i - \\hat{f}(x_i)|, i=1,\\ldots,n$$\n",
    "\n",
    "$$\\hat{q}= \\lceil (1-\\alpha)(n+1)\\rceil \\text{ smallest of } r_1,\\ldots, r_n$$\n",
    "\n",
    "* Thus, we have \n",
    "\n",
    "$$\\hat{C}(x_{n+1})=\\big\\{y: |y-\\hat{f}(x_{n+1})|\\leq \\hat{q}\\big\\}$$\n",
    "\n",
    "or, we can write this as follows\n",
    "\n",
    "$$\\hat{C}(x_{n+1})=\\big[\\hat{f}(x_{n+1})-\\hat{q}, \\hat{f}(x_{n+1})+\\hat{q}\\big]$$\n",
    "\n",
    "* Caveat: The model has seen $x_1,\\ldots,x_n$ during the training process, but not the test point $x_{n+1}$\n",
    "\n",
    "    * The rank of the residual $r_{n+1}$ is not uniformly distributed"
   ]
  },
  {
   "cell_type": "markdown",
   "id": "325ea0cb",
   "metadata": {},
   "source": [
    "### Ingredient 2 of CP: calibration set\n",
    "<hr style=\"border:2px solid gray\">\n",
    "\n",
    "* Divide the available data into two disjoint sets: one set used for training the underlying model (the proper training set) and one set for calibrating the prediction (the calibration set)\n",
    "\n",
    "    * $\\mathcal{D}_1$: indices of training samples ($n_1$ data points)\n",
    "    * $\\mathcal{D}_2$: indices of calibration samples ($n_2$ data points)\n",
    "    \n",
    "* Fit $\\hat{f}$ using the training data set $\\mathcal{D}_1$ and compute residuals using $\\mathcal{D}_2$\n",
    "\n",
    "$$r_i = |y_i - \\hat{f}(x_i)|, i\\in\\mathcal{D}_2$$\n",
    "\n",
    "* Find the quantile \n",
    "\n",
    "$$\\hat{q}= \\lceil (1-\\alpha)(n_2+1)\\rceil \\text{ smallest of } r_i, i\\in\\mathcal{D}_2$$\n",
    "\n",
    "* Construct the prediction interval\n",
    "\n",
    "$$\\hat{C}(x_{n+1})=\\big[\\hat{f}(x_{n+1})-\\hat{q}, \\hat{f}(x_{n+1})+\\hat{q}\\big]$$"
   ]
  },
  {
   "cell_type": "markdown",
   "id": "4cf7a1bb",
   "metadata": {},
   "source": [
    "### Ingredient 3 of CP: score function\n",
    "<hr style=\"border:2px solid gray\">\n",
    "\n",
    "* We used residuals as negatively-oriented score functions, that is, lower values are better \n",
    "* However, we can assign a ``conformity score`` to each point in the calibration set \n",
    "\n",
    "$$s_i=s(x_i, y_i), i\\in\\mathcal{D}_2$$\n",
    "\n",
    "and we then build the set \n",
    "\n",
    "$$\\hat{C}(x)=\\big\\{y: s(x,y)\\leq \\lceil (1-\\alpha)(n_2+1)\\rceil \\text{ smallest of } s_i, i\\in\\mathcal{D}_2 \\big\\}$$\n",
    "\n",
    "* The scoring function is a metric used to assess the quality of predictions\n",
    "\n",
    "* On the other hand, if we use positively-oriented scores (i.e., higher scores are desirable), we have to make a small adjustment\n",
    "\n",
    "$$\\hat{C}(x)=\\big\\{y: s(x,y)\\geq \\lfloor \\alpha(n_2+1)\\rfloor \\text{ smallest of } s_i, i\\in\\mathcal{D}_2 \\big\\}$$\n",
    "\n"
   ]
  },
  {
   "cell_type": "markdown",
   "id": "5ee55aa2",
   "metadata": {},
   "source": [
    "### CP using score function and quantile\n",
    "<hr style=\"border:2px solid gray\">\n",
    "\n",
    "* Let us consider negatively-oriented score functions,  we see that  \n",
    "\n",
    "$$\\begin{align}\\hat{C}(x)&= \\big\\{y: s(x,y)\\leq \\lceil (1-\\alpha)(n_2+1)\\rceil \\text{ smallest of } s_i, i\\in\\mathcal{D}_2 \\big\\} \\\\ &= \\big\\{y: s(x,y)\\leq \\text{quantile}\\big(s_1,\\ldots,s_{n_2};\\frac{\\lceil (1-\\alpha)(n_2+1)\\rceil}{n_2}\\big)\\big\\}\\end{align}$$\n",
    "\n",
    "* Take the empirical quantile at an ``adjusted level``: we use $\\frac{\\lceil (1-\\alpha)(n_2+1)\\rceil}{n_2}$ instead of $(1-\\alpha)$\n",
    "\n",
    "* Easy to remember: \"test score $\\leq$ adjusted quantile\""
   ]
  },
  {
   "cell_type": "markdown",
   "id": "a095b834",
   "metadata": {},
   "source": [
    "### Exchangeability is all you need\n",
    "<hr style=\"border:2px solid gray\">\n",
    "\n",
    "* All that we need is knowing that $y_1,\\ldots,y_{n+1}$ are exchangeable, which is a weaker than the i.i.d. assumption\n",
    "\n",
    "* Exchangeability means that their joint distribution is unchanged under *permutations*\n",
    "\n",
    "$$\\big(y_1,\\ldots,y_{n+1}\\big)\\stackrel{d}{=} \\big(y_{\\sigma(1)},\\ldots,y_{\\sigma(n+1)}\\big), \\;\\text{for all permutations } \\sigma$$\n"
   ]
  },
  {
   "cell_type": "markdown",
   "id": "2e2e399d",
   "metadata": {},
   "source": [
    "### Exchangeability Example\n",
    "<hr style=\"border:2px solid gray\">\n",
    "\n",
    "* Suppose you have a basket containing 1 red ball and 2 blue balls. Draw out balls, one at a time and without replacement, and note the color. \n",
    "\n",
    "* Define \n",
    "\n",
    "$$X_i=\\begin{cases}1 & \\text{if the } i \\text{-th ball is red}\\\\ 0 & \\text{if the } i \\text{-th ball is blue}\\end{cases}$$\n",
    "\n",
    "The random variables $X_1,X_2,X_3$ are exchangeable. \n",
    "\n",
    "Proof: If the arguments for $\\text{Prob}(X_1=x_1, X_2=x_2, X_3=x_3)$ are anything other than two 0's and one 1, regardless of the order, the probability is zero. So, we must only check arguments that are permutations of $(1,0,0)$.\n",
    "\n",
    "$$\\text{Prob}(X_1=1, X_2=0, X_3=0)=\\frac{1}{3}\\cdot1 \\cdot 1=\\frac{1}{3}$$\n",
    "\n",
    "$$\\text{Prob}(X_1=0, X_2=1, X_3=0)=\\frac{2}{3}\\cdot \\frac{1}{2}  \\cdot 1 =\\frac{1}{3}$$\n",
    "\n",
    "$$\\text{Prob}(X_1=0, X_2=0, X_3=1)=\\frac{2}{3}\\cdot \\frac{1}{2}  \\cdot 1 =\\frac{1}{3}$$\n",
    "\n",
    "Since these are all the same, the random variables $X_1$, $X_2$, and $X_3$ are exchangeable. "
   ]
  },
  {
   "cell_type": "markdown",
   "id": "6589d788",
   "metadata": {},
   "source": [
    "### CP instructions\n",
    "<hr style=\"border:2px solid gray\">\n",
    "\n",
    "1. Identify a heuristic notion of uncertainty using the trained model on $\\mathcal{D}_1$\n",
    "\n",
    "2. Define the score function $s(x,y)\\in\\mathbb{R}$ such that higher scores represent worse agreement between $x$ and $y$\n",
    "\n",
    "3. Compute $\\hat{q}$\n",
    "\n",
    "$$\\hat{q}=\\text{quantile}\\big(s_1,\\ldots,s_{n_2};\\frac{\\lceil (1-\\alpha)(n_2+1)\\rceil}{n_2}\\big)$$\n",
    "    \n",
    "4. Use this quantile to form the prediction set \n",
    "\n",
    "$$\\hat{C}\\big(x_{\\text{test}}\\big)=\\big\\{y: s(x_{\\text{test}}, y)\\leq \\hat{q}\\big\\}$$"
   ]
  },
  {
   "cell_type": "markdown",
   "id": "11c34170",
   "metadata": {},
   "source": [
    "### Classification with softmax\n",
    "<hr style=\"border:2px solid gray\">\n",
    "\n",
    "1. We use the softmax score as a heuristic notion of uncertainty\n",
    "\n",
    "2. Define the score function as \"$1$ - softmax output of the true class\"\n",
    "\n",
    "$$s(x_i, y_i)=1 - \\hat{f}(x_i)_{y_i}$$\n",
    "\n",
    "3. Find the empirical quantile $\\hat{q}$ at the adjusted level $\\frac{\\lceil (1-\\alpha)(n_2+1)\\rceil}{n_2}$\n",
    "\n",
    "4. Construct the prediction set \n",
    "\n",
    "$$\\begin{align}\\hat{C}\\big(x_{\\text{test}}\\big)&=\\big\\{y: 1 - \\hat{f}(x_{\\text{test}})_y\\leq \\hat{q}\\big\\}\\\\ &= \\big\\{y: \\hat{f}(x_{\\text{test}})_y\\geq 1 - \\hat{q}\\big\\}\\end{align}$$\n"
   ]
  },
  {
   "cell_type": "code",
   "execution_count": 1,
   "id": "92e1dd7f",
   "metadata": {},
   "outputs": [
    {
     "name": "stdout",
     "output_type": "stream",
     "text": [
      "[[0.34263822 0.53703581 0.12032597]\n",
      " [0.69861461 0.22979767 0.07158772]]\n"
     ]
    }
   ],
   "source": [
    "# How can we find the softmax output of the true class? \n",
    "\n",
    "import numpy as np \n",
    "\n",
    "np.random.seed(4)\n",
    "\n",
    "A = np.random.randn(2, 3) # 2 samples, 3 classes \n",
    "\n",
    "A_prob = np.exp(A)/np.exp(A).sum(axis=1, keepdims=True)\n",
    "\n",
    "print(A_prob)"
   ]
  },
  {
   "cell_type": "code",
   "execution_count": 2,
   "id": "9492a81a",
   "metadata": {},
   "outputs": [],
   "source": [
    "labels = np.array([1,0]) # labels for the 2 samples"
   ]
  },
  {
   "cell_type": "code",
   "execution_count": 3,
   "id": "96616a6c",
   "metadata": {},
   "outputs": [
    {
     "name": "stdout",
     "output_type": "stream",
     "text": [
      "[0.53703581 0.69861461]\n"
     ]
    }
   ],
   "source": [
    "# Not recommended \n",
    "scores = np.zeros(A_prob.shape[0])\n",
    "\n",
    "for loc, cls in enumerate(labels):\n",
    "    scores[loc] = A_prob[loc, cls]\n",
    "\n",
    "print(scores)"
   ]
  },
  {
   "cell_type": "code",
   "execution_count": 4,
   "id": "affac2e6",
   "metadata": {},
   "outputs": [
    {
     "name": "stdout",
     "output_type": "stream",
     "text": [
      "[[0.53703581 0.34263822]\n",
      " [0.22979767 0.69861461]]\n"
     ]
    }
   ],
   "source": [
    "# How about this one?\n",
    "scores = A_prob[:, labels]\n",
    "\n",
    "print(scores)"
   ]
  },
  {
   "cell_type": "code",
   "execution_count": 5,
   "id": "0a8a219f",
   "metadata": {},
   "outputs": [
    {
     "name": "stdout",
     "output_type": "stream",
     "text": [
      "[0.53703581 0.69861461]\n"
     ]
    }
   ],
   "source": [
    "# Does this solve the problem?\n",
    "\n",
    "scores = A_prob[np.arange(2), labels]\n",
    "\n",
    "print(scores)"
   ]
  },
  {
   "cell_type": "code",
   "execution_count": 6,
   "id": "cf2e9c76",
   "metadata": {},
   "outputs": [
    {
     "data": {
      "image/png": "[encoded data removed]",
      "text/plain": [
       "<Figure size 400x300 with 1 Axes>"
      ]
     },
     "metadata": {},
     "output_type": "display_data"
    }
   ],
   "source": [
    "import numpy as np\n",
    "import matplotlib.pyplot as plt \n",
    "\n",
    "# Set random seed for reproducibility\n",
    "np.random.seed(5)\n",
    "\n",
    "# Generate synthetic data for three-class classification\n",
    "mean_class_1 = [2, 3]\n",
    "cov_class_1 = [[1, 0.5], [0.5, 1]]\n",
    "data_class_1 = np.random.multivariate_normal(mean_class_1, cov_class_1, 200)\n",
    "\n",
    "mean_class_2 = [6, 5]\n",
    "cov_class_2 = [[1, -0.5], [-0.5, 1]]\n",
    "data_class_2 = np.random.multivariate_normal(mean_class_2, cov_class_2, 200)\n",
    "\n",
    "mean_class_3 = [2, 5]\n",
    "cov_class_3 = [[1, 0], [0, 1]]\n",
    "data_class_3 = np.random.multivariate_normal(mean_class_3, cov_class_3, 200)\n",
    "\n",
    "# Combine the three classes into a single dataset\n",
    "X = np.vstack((data_class_1, data_class_2, data_class_3))\n",
    "y = np.hstack((np.zeros(200, dtype=int), np.ones(200, dtype=int),\n",
    "               2 * np.ones(200, dtype=int)))  \n",
    "\n",
    "# Plot the synthetic data\n",
    "plt.rcParams.update({'font.size': 11, \"figure.figsize\": (4,3)})\n",
    "colors = {0: \"#1f77b4\", 1: \"#ff7f0e\", 2:  \"#2ca02c\", 3: \"#d62728\"}\n",
    "y_col = list(map(colors.get, y))\n",
    "\n",
    "plt.scatter(X[:, 0], X[:, 1], c=y_col, marker='o', s=20, edgecolors='k')\n",
    "plt.xlabel('Feature 1')\n",
    "plt.ylabel('Feature 2')\n",
    "plt.tight_layout()\n",
    "plt.show()"
   ]
  },
  {
   "cell_type": "code",
   "execution_count": 7,
   "id": "99f7ea5f",
   "metadata": {},
   "outputs": [
    {
     "name": "stdout",
     "output_type": "stream",
     "text": [
      "(200, 2) (200, 2) (200, 2)\n"
     ]
    }
   ],
   "source": [
    "# Divide the data into three sets: training, calibration, and testing \n",
    "\n",
    "from sklearn.model_selection import train_test_split\n",
    "\n",
    "\n",
    "X_train_cal, X_test, y_train_cal, y_test = train_test_split(\n",
    "    X, y, test_size=1/3, random_state=42)\n",
    "\n",
    "\n",
    "X_train, X_cal, y_train, y_cal = train_test_split(\n",
    "    X_train_cal, y_train_cal, test_size=1/2, random_state=42)\n",
    "\n",
    "print(X_train.shape, X_cal.shape, X_test.shape)"
   ]
  },
  {
   "cell_type": "code",
   "execution_count": 8,
   "id": "d30324f5",
   "metadata": {},
   "outputs": [
    {
     "name": "stdout",
     "output_type": "stream",
     "text": [
      "[[8.85126526e-01 3.22633827e-05 1.14841211e-01]\n",
      " [7.61893964e-02 5.11431650e-01 4.12378953e-01]\n",
      " [6.82677859e-02 2.89546593e-05 9.31703259e-01]\n",
      " [1.71800476e-01 9.33127633e-03 8.18868247e-01]\n",
      " [8.06669635e-01 4.16252408e-02 1.51705125e-01]]\n"
     ]
    }
   ],
   "source": [
    "from sklearn.linear_model import LogisticRegression\n",
    "\n",
    "clf = LogisticRegression()\n",
    "\n",
    "clf.fit(X_train, y_train)\n",
    "\n",
    "y_prob = clf.predict_proba(X_cal)\n",
    "\n",
    "print(y_prob[:5])"
   ]
  },
  {
   "cell_type": "code",
   "execution_count": 9,
   "id": "5d61713a",
   "metadata": {},
   "outputs": [
    {
     "name": "stdout",
     "output_type": "stream",
     "text": [
      "[0.11487347 0.48856835 0.06829674 0.18113175 0.19333037]\n"
     ]
    }
   ],
   "source": [
    "# Get calibration scores \n",
    "\n",
    "n2 = X_cal.shape[0]\n",
    "\n",
    "cal_scores = 1 - y_prob[np.arange(n2), y_cal]\n",
    "\n",
    "print(cal_scores[:5])"
   ]
  },
  {
   "cell_type": "code",
   "execution_count": 10,
   "id": "7b3327fa",
   "metadata": {},
   "outputs": [],
   "source": [
    "# Get adjusted quantile\n",
    "\n",
    "def find_quantile(cal_scores, n2, alpha):\n",
    "\n",
    "    q_level = np.ceil((n2+1)*(1-alpha))/n2\n",
    "\n",
    "    qhat = np.quantile(cal_scores, q_level, method='higher')\n",
    "    \n",
    "    return qhat "
   ]
  },
  {
   "cell_type": "code",
   "execution_count": 11,
   "id": "14fa8e66",
   "metadata": {},
   "outputs": [],
   "source": [
    "# Plot calibration scores and adjusted quantile for various alpha \n",
    "\n",
    "def plot_scores(alphas, cal_scores, quantiles):\n",
    "    colors = {0: \"#1f77b4\", 1: \"#ff7f0e\", 2: \"#2ca02c\"}\n",
    "    plt.figure(figsize=(5, 3))\n",
    "    plt.rcParams.update({'font.size': 12})\n",
    "    plt.hist(cal_scores, bins=\"auto\")\n",
    "    for i, quantile in enumerate(quantiles):\n",
    "        plt.vlines(\n",
    "            x=quantile,\n",
    "            ymin=0,\n",
    "            ymax=150,\n",
    "            color=colors[i],\n",
    "            ls=\"dashed\",\n",
    "            label=f\"alpha = {alphas[i]}\"\n",
    "        )\n",
    "    plt.title(\"Distribution of scores\")\n",
    "    plt.legend()\n",
    "    plt.xlabel(\"Scores\")\n",
    "    plt.ylabel(\"Count\")\n",
    "    plt.show()"
   ]
  },
  {
   "cell_type": "code",
   "execution_count": 12,
   "id": "244de2e4",
   "metadata": {},
   "outputs": [
    {
     "data": {
      "image/png": "[encoded data removed]",
      "text/plain": [
       "<Figure size 500x300 with 1 Axes>"
      ]
     },
     "metadata": {},
     "output_type": "display_data"
    }
   ],
   "source": [
    "alphas = [0.05, 0.1, 0.2]\n",
    "\n",
    "quantiles = [find_quantile(cal_scores, n2, alpha) for alpha in alphas]\n",
    "\n",
    "plot_scores(alphas, cal_scores, quantiles)"
   ]
  },
  {
   "cell_type": "code",
   "execution_count": 13,
   "id": "93ef006f",
   "metadata": {},
   "outputs": [],
   "source": [
    "# Build the prediction set (one alpha only)\n",
    "\n",
    "qhat = find_quantile(cal_scores, n2, alpha=0.05)\n",
    "\n",
    "prediction_sets = clf.predict_proba(X_test) >= (1-qhat) "
   ]
  },
  {
   "cell_type": "code",
   "execution_count": 14,
   "id": "0ed421a8",
   "metadata": {},
   "outputs": [
    {
     "data": {
      "text/plain": [
       "array([[ True, False, False],\n",
       "       [ True, False,  True],\n",
       "       [ True, False,  True],\n",
       "       [ True, False, False],\n",
       "       [ True, False,  True]])"
      ]
     },
     "execution_count": 14,
     "metadata": {},
     "output_type": "execute_result"
    }
   ],
   "source": [
    "prediction_sets[:5]"
   ]
  },
  {
   "cell_type": "code",
   "execution_count": 15,
   "id": "b0dca03b",
   "metadata": {},
   "outputs": [
    {
     "data": {
      "text/plain": [
       "1.225"
      ]
     },
     "execution_count": 15,
     "metadata": {},
     "output_type": "execute_result"
    }
   ],
   "source": [
    "# Mean width of prediction set\n",
    "\n",
    "prediction_sets.sum(axis=1).mean()\n"
   ]
  },
  {
   "cell_type": "code",
   "execution_count": 16,
   "id": "03564d06",
   "metadata": {},
   "outputs": [
    {
     "data": {
      "text/plain": [
       "array([ True,  True,  True,  True,  True,  True,  True,  True,  True,\n",
       "        True,  True, False,  True,  True,  True,  True,  True,  True,\n",
       "        True,  True,  True,  True,  True,  True,  True,  True, False,\n",
       "        True,  True,  True,  True,  True,  True,  True,  True,  True,\n",
       "        True,  True,  True,  True,  True,  True,  True,  True,  True,\n",
       "        True,  True,  True,  True,  True,  True,  True,  True,  True,\n",
       "        True,  True,  True,  True,  True,  True,  True,  True,  True,\n",
       "        True,  True,  True, False,  True,  True,  True,  True,  True,\n",
       "        True,  True,  True,  True,  True,  True,  True,  True,  True,\n",
       "        True,  True,  True,  True,  True,  True,  True,  True, False,\n",
       "        True,  True,  True,  True,  True,  True,  True,  True,  True,\n",
       "        True,  True,  True,  True,  True,  True,  True,  True,  True,\n",
       "        True,  True,  True,  True,  True,  True,  True, False,  True,\n",
       "        True,  True,  True,  True,  True,  True,  True, False,  True,\n",
       "        True,  True, False,  True,  True,  True,  True,  True,  True,\n",
       "        True,  True,  True,  True,  True,  True,  True,  True,  True,\n",
       "        True,  True,  True,  True,  True,  True,  True,  True,  True,\n",
       "        True,  True,  True,  True,  True,  True,  True,  True,  True,\n",
       "        True,  True,  True, False,  True,  True,  True,  True,  True,\n",
       "        True,  True,  True,  True,  True,  True,  True,  True,  True,\n",
       "        True,  True,  True,  True,  True,  True,  True,  True,  True,\n",
       "        True,  True,  True,  True,  True,  True,  True,  True,  True,\n",
       "        True,  True])"
      ]
     },
     "execution_count": 16,
     "metadata": {},
     "output_type": "execute_result"
    }
   ],
   "source": [
    "# Effective coverage score\n",
    "# The fraction of true labels that lie within the prediction sets\n",
    "\n",
    "prediction_sets[np.arange(X_test.shape[0]), y_test]"
   ]
  },
  {
   "cell_type": "code",
   "execution_count": 17,
   "id": "320a67d4",
   "metadata": {},
   "outputs": [
    {
     "data": {
      "text/plain": [
       "0.96"
      ]
     },
     "execution_count": 17,
     "metadata": {},
     "output_type": "execute_result"
    }
   ],
   "source": [
    "prediction_sets[np.arange(X_test.shape[0]), y_test].mean()"
   ]
  },
  {
   "cell_type": "code",
   "execution_count": 18,
   "id": "7f11961e",
   "metadata": {},
   "outputs": [
    {
     "data": {
      "text/plain": [
       "0.91"
      ]
     },
     "execution_count": 18,
     "metadata": {},
     "output_type": "execute_result"
    }
   ],
   "source": [
    "# What if we choose a different alpha? \n",
    "\n",
    "qhat = find_quantile(cal_scores, n2, alpha=0.1)\n",
    "\n",
    "prediction_sets = clf.predict_proba(X_test) >= (1-qhat) \n",
    "\n",
    "prediction_sets[np.arange(X_test.shape[0]), y_test].mean()"
   ]
  },
  {
   "cell_type": "code",
   "execution_count": 19,
   "id": "4e3a44aa",
   "metadata": {},
   "outputs": [
    {
     "data": {
      "text/plain": [
       "1.025"
      ]
     },
     "execution_count": 19,
     "metadata": {},
     "output_type": "execute_result"
    }
   ],
   "source": [
    "# What about the average size of the prediction set? \n",
    "\n",
    "prediction_sets.sum(axis=1).mean()"
   ]
  },
  {
   "cell_type": "markdown",
   "id": "53e61087",
   "metadata": {},
   "source": [
    "### Full conformal prediction \n",
    "<hr style=\"border:2px solid gray\">\n",
    "\n",
    "* Is there some way to get guaranteed coverage without splitting the data?\n",
    "\n",
    "* In full conformal prediction, we still abide by the key ideas described previously, in which we construct residuals/scores in a way that treats all data symmetrically\n",
    "\n",
    "* Rina Foygel Barber. Emmanuel J. Candès. Aaditya Ramdas. Ryan J. Tibshirani. \"Predictive inference with the jackknife+.\" Ann. Statist. 49 (1) 486 - 507, February 2021\n",
    "    * Available at https://doi.org/10.1214/20-AOS1965\n",
    "    \n",
    "    \n",
    "<img src=\"https://github.com/farhad-pourkamali/MATH6388/blob/main/images/jackknife.png?raw=true\\\" width=350>"
   ]
  },
  {
   "cell_type": "markdown",
   "id": "71c0ab2d",
   "metadata": {},
   "source": [
    "* Suppose that we split the data into $K$ disjoint subsets $\\mathcal{D}_1,\\ldots,\\mathcal{D}_K$\n",
    "\n",
    "* Let $\\hat{f}_{-\\mathcal{D}_k}$ be the regression function fitted onto the entire data set when the $k$-th fold $\\mathcal{D}_k$ is removed\n",
    "\n",
    "* Find residuals\n",
    "\n",
    "$$r_i = |y_i - \\hat{f}_{-\\mathcal{D}_{k(i)}}(x_i)|, i=1,\\ldots,n$$\n",
    "\n",
    "where $k(i)\\in\\{1,\\ldots,K\\}$ identifies the subset that contains $i$\n",
    "\n",
    "* Build the prediction set \n",
    "\n",
    "$$\\hat{C}(x_{n+1})=\\big[\\hat{q}^{-}\\{\\hat{f}_{-\\mathcal{D}_{k(i)}}(x_{n+1})-r_i\\},\n",
    "\\hat{q}^{+}\\{\\hat{f}_{-\\mathcal{D}_{k(i)}}(x_{n+1})+r_i\\}\n",
    "\\big]$$\n",
    "\n",
    "where \n",
    "\n",
    "$$\\hat{q}^{+}\\{r_i\\}= \\lceil (1-\\alpha) (n+1) \\rceil \\text{ smallest of } r_1,\\ldots,r_n$$\n",
    "\n",
    "and \n",
    "\n",
    "$$\\hat{q}^{-}\\{r_i\\}= \\lfloor \\alpha (n+1) \\rfloor \\text{ smallest of } r_1,\\ldots,r_n$$\n"
   ]
  },
  {
   "cell_type": "code",
   "execution_count": 20,
   "id": "774e4d9f",
   "metadata": {},
   "outputs": [
    {
     "data": {
      "image/png": "[encoded data removed]",
      "text/plain": [
       "<Figure size 500x300 with 1 Axes>"
      ]
     },
     "metadata": {},
     "output_type": "display_data"
    }
   ],
   "source": [
    "import numpy as np\n",
    "import matplotlib.pyplot as plt\n",
    "\n",
    "# Set a random seed for reproducibility\n",
    "np.random.seed(42)\n",
    "\n",
    "# Number of data points\n",
    "num_points = 200\n",
    "\n",
    "# Generate random values for the regressor (size of houses)\n",
    "size = np.random.uniform(0, 10, num_points)\n",
    "\n",
    "# Generate random error term\n",
    "epsilon = np.random.normal(0, 1, num_points)\n",
    "\n",
    "# Generate output/response\n",
    "y = 0.5 * size** 2 + 1 * size + epsilon \n",
    "\n",
    "# Plot the synthetic dataset\n",
    "plt.rcParams.update({'font.size': 12, \"figure.figsize\": (5,3)})\n",
    "plt.scatter(size, y, label='Synthetic Data')\n",
    "plt.xlabel('Feature')\n",
    "plt.ylabel('Response')\n",
    "plt.title('Synthetic 1D Regression Data')\n",
    "plt.legend()\n",
    "plt.show()\n"
   ]
  },
  {
   "cell_type": "code",
   "execution_count": 21,
   "id": "2de3d728",
   "metadata": {},
   "outputs": [
    {
     "name": "stdout",
     "output_type": "stream",
     "text": [
      "(200, 1) (200,)\n"
     ]
    }
   ],
   "source": [
    "X = size.reshape(-1,1)\n",
    "\n",
    "print(X.shape, y.shape)"
   ]
  },
  {
   "cell_type": "code",
   "execution_count": 22,
   "id": "4ff1b0dd",
   "metadata": {},
   "outputs": [
    {
     "name": "stdout",
     "output_type": "stream",
     "text": [
      "(5, 1) \n",
      " [[2. ]\n",
      " [3.5]\n",
      " [5. ]\n",
      " [6.5]\n",
      " [8. ]]\n"
     ]
    }
   ],
   "source": [
    "X_target = np.linspace(2, 8, 5).reshape(-1,1)\n",
    "\n",
    "print(X_target.shape,'\\n', X_target)"
   ]
  },
  {
   "cell_type": "code",
   "execution_count": 23,
   "id": "aa01ee63",
   "metadata": {},
   "outputs": [
    {
     "name": "stdout",
     "output_type": "stream",
     "text": [
      "Metal device set to: Apple M2 Max\n"
     ]
    }
   ],
   "source": [
    "from keras.models import Sequential\n",
    "from keras.layers import Dense\n",
    "\n",
    "# Build the regression model\n",
    "regr = Sequential()\n",
    "regr.add(Dense(units=2, input_dim=1, activation='elu'))  # Hidden layer with 10 neurons and ELU activation\n",
    "regr.add(Dense(units=1))  # Output layer (1 neuron for regression)\n",
    "\n",
    "# Compile the model\n",
    "regr.compile(optimizer='adam', loss='mean_squared_error')"
   ]
  },
  {
   "cell_type": "code",
   "execution_count": 24,
   "id": "12e3cb0c",
   "metadata": {},
   "outputs": [
    {
     "name": "stderr",
     "output_type": "stream",
     "text": [
      "2023-11-05 09:06:39.569946: W tensorflow/tsl/platform/profile_utils/cpu_utils.cc:128] Failed to get CPU frequency: 0 Hz\n"
     ]
    },
    {
     "name": "stdout",
     "output_type": "stream",
     "text": [
      "1/1 [==============================] - 0s 30ms/step\n",
      "1/1 [==============================] - 0s 12ms/step\n",
      "1/1 [==============================] - 0s 7ms/step\n",
      "1/1 [==============================] - 0s 7ms/step\n",
      "1/1 [==============================] - 0s 8ms/step\n",
      "1/1 [==============================] - 0s 7ms/step\n",
      "1/1 [==============================] - 0s 8ms/step\n",
      "1/1 [==============================] - 0s 8ms/step\n",
      "1/1 [==============================] - 0s 9ms/step\n",
      "1/1 [==============================] - 0s 8ms/step\n",
      "1/1 [==============================] - 0s 9ms/step\n",
      "1/1 [==============================] - 0s 9ms/step\n",
      "1/1 [==============================] - 0s 8ms/step\n",
      "1/1 [==============================] - 0s 9ms/step\n",
      "1/1 [==============================] - 0s 8ms/step\n",
      "1/1 [==============================] - 0s 8ms/step\n",
      "1/1 [==============================] - 0s 8ms/step\n",
      "1/1 [==============================] - 0s 8ms/step\n",
      "1/1 [==============================] - 0s 11ms/step\n",
      "1/1 [==============================] - 0s 10ms/step\n"
     ]
    }
   ],
   "source": [
    "from sklearn.model_selection import KFold\n",
    "\n",
    "R_CV = np.zeros(len(X)) # residual for each point \n",
    "    \n",
    "P_CV = np.zeros((len(X), len(X_target))) # predicted values for each target point\n",
    "    \n",
    "kf = KFold(n_splits=10) # cross validation \n",
    "    \n",
    "for train_index, test_index in kf.split(X):\n",
    "    \n",
    "    # fit using the training data \n",
    "    regr.fit(X[train_index], y[train_index], epochs=1000,\n",
    "             batch_size=len(train_index), verbose=0) \n",
    "    \n",
    "    # find residuals for the hold-out data\n",
    "    R_CV[test_index] = np.absolute(y[test_index] - regr.predict(X[test_index]).ravel())\n",
    "    \n",
    "    # prediction for the target data\n",
    "    P_CV[test_index] = np.repeat(regr.predict(X_target).reshape(1,-1), len(test_index), axis=0)\n",
    "    \n",
    "alpha = 0.1    \n",
    "        \n",
    "lower = np.quantile( (P_CV - R_CV.reshape(-1,1)) , alpha, axis=0) # lower limit \n",
    "    \n",
    "upper = np.quantile( (P_CV + R_CV.reshape(-1,1)), (1 - alpha), axis=0) # upper limit \n",
    "    \n",
    "\n",
    "    "
   ]
  },
  {
   "cell_type": "code",
   "execution_count": 25,
   "id": "18fde821",
   "metadata": {},
   "outputs": [
    {
     "name": "stdout",
     "output_type": "stream",
     "text": [
      "[-1.79210187  6.91081295 12.99322697 17.71637054 23.99841632] \n",
      " [12.67579403 20.18503239 28.20188995 36.66058821 45.49096347]\n"
     ]
    }
   ],
   "source": [
    "print(lower, '\\n', upper)"
   ]
  },
  {
   "cell_type": "code",
   "execution_count": 26,
   "id": "57a58ec8",
   "metadata": {},
   "outputs": [
    {
     "data": {
      "image/png": "[encoded data removed]",
      "text/plain": [
       "<Figure size 500x300 with 1 Axes>"
      ]
     },
     "metadata": {},
     "output_type": "display_data"
    }
   ],
   "source": [
    "# Plot the data\n",
    "plt.scatter(size, y, label='Synthetic Data')\n",
    "\n",
    "# Plot vertical bars for prediction intervals\n",
    "for ind, sample in enumerate(X_target.ravel()):\n",
    "    plt.plot([sample, sample], \n",
    "             [lower[ind], upper[ind]], color='red', linewidth=3, \n",
    "             marker='o')\n",
    "\n",
    "\n",
    "\n",
    "plt.xlabel('Feature')\n",
    "plt.ylabel('Response')\n",
    "plt.legend()\n",
    "plt.show()"
   ]
  },
  {
   "cell_type": "code",
   "execution_count": null,
   "id": "f7bea53c",
   "metadata": {},
   "outputs": [],
   "source": []
  }
 ],
 "metadata": {
  "kernelspec": {
   "display_name": "Python 3 (ipykernel)",
   "language": "python",
   "name": "python3"
  },
  "language_info": {
   "codemirror_mode": {
    "name": "ipython",
    "version": 3
   },
   "file_extension": ".py",
   "mimetype": "text/x-python",
   "name": "python",
   "nbconvert_exporter": "python",
   "pygments_lexer": "ipython3",
   "version": "3.10.9"
  }
 },
 "nbformat": 4,
 "nbformat_minor": 5
}
